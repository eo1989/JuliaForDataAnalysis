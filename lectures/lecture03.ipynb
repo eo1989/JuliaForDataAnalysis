{
 "cells": [
  {
   "cell_type": "markdown",
   "id": "8d304446",
   "metadata": {},
   "source": [
    "# Julia for Data Analysis\n",
    "\n",
    "## Bogumił Kamiński"
   ]
  },
  {
   "cell_type": "markdown",
   "id": "8a57707c",
   "metadata": {},
   "source": [
    "# Lecture 3. Julia's support for scaling projects"
   ]
  },
  {
   "cell_type": "markdown",
   "id": "4164247e",
   "metadata": {},
   "source": [
    "## Understanding Julia's type system"
   ]
  },
  {
   "cell_type": "markdown",
   "id": "11e127d0",
   "metadata": {},
   "source": [
    "### A single function can have multiple methods"
   ]
  },
  {
   "cell_type": "code",
   "execution_count": 2,
   "id": "b1f7359c",
   "metadata": {},
   "outputs": [
    {
     "name": "stderr",
     "output_type": "stream",
     "text": [
      "\u001b[32m\u001b[1m  Activating\u001b[22m\u001b[39m project at `~/repos/JuliaForDataAnalysis`\n"
     ]
    }
   ],
   "source": [
    "using Pkg\n",
    "Pkg.activate(Base.current_project())"
   ]
  },
  {
   "cell_type": "code",
   "execution_count": 3,
   "id": "10a2afef",
   "metadata": {},
   "outputs": [
    {
     "data": {
      "text/html": [
       "# 4 methods for generic function <b>cd</b> from \u001b[90mBase.Filesystem\u001b[39m:<ul><li> cd() in Base.Filesystem at <a href=\"https://github.com/JuliaLang/julia/tree/e4ee485e90961018b7e53ce14b8b99335953e176/base/file.jl#L94\" target=\"_blank\">file.jl:94</a></li> <li> cd(dir::<b>AbstractString</b>) in Base.Filesystem at <a href=\"https://github.com/JuliaLang/julia/tree/e4ee485e90961018b7e53ce14b8b99335953e176/base/file.jl#L89\" target=\"_blank\">file.jl:89</a></li> <li> cd(f::<b>Function</b>) in Base.Filesystem at <a href=\"https://github.com/JuliaLang/julia/tree/e4ee485e90961018b7e53ce14b8b99335953e176/base/file.jl#L147\" target=\"_blank\">file.jl:147</a></li> <li> cd(f::<b>Function</b>, dir::<b>AbstractString</b>) in Base.Filesystem at <a href=\"https://github.com/JuliaLang/julia/tree/e4ee485e90961018b7e53ce14b8b99335953e176/base/file.jl#L107\" target=\"_blank\">file.jl:107</a></li> </ul>"
      ],
      "text/plain": [
       "# 4 methods for generic function \"cd\" from \u001b[90mBase.Filesystem\u001b[39m:\n",
       " [1] cd()\n",
       "\u001b[90m     @\u001b[39m \u001b[90m\u001b[4mfile.jl:94\u001b[24m\u001b[39m\n",
       " [2] cd(\u001b[90mdir\u001b[39m::\u001b[1mAbstractString\u001b[22m)\n",
       "\u001b[90m     @\u001b[39m \u001b[90m\u001b[4mfile.jl:89\u001b[24m\u001b[39m\n",
       " [3] cd(\u001b[90mf\u001b[39m::\u001b[1mFunction\u001b[22m)\n",
       "\u001b[90m     @\u001b[39m \u001b[90m\u001b[4mfile.jl:147\u001b[24m\u001b[39m\n",
       " [4] cd(\u001b[90mf\u001b[39m::\u001b[1mFunction\u001b[22m, \u001b[90mdir\u001b[39m::\u001b[1mAbstractString\u001b[22m)\n",
       "\u001b[90m     @\u001b[39m \u001b[90m\u001b[4mfile.jl:107\u001b[24m\u001b[39m"
      ]
     },
     "metadata": {},
     "output_type": "display_data"
    }
   ],
   "source": [
    "methods(cd)"
   ]
  },
  {
   "cell_type": "markdown",
   "id": "2c57bd80",
   "metadata": {},
   "source": [
    "### Every function has its own type that is a subtype of `Function`"
   ]
  },
  {
   "cell_type": "code",
   "execution_count": 4,
   "id": "2bbafac3",
   "metadata": {},
   "outputs": [
    {
     "data": {
      "text/plain": [
       "true"
      ]
     },
     "metadata": {},
     "output_type": "display_data"
    }
   ],
   "source": [
    "sum isa Function"
   ]
  },
  {
   "cell_type": "code",
   "execution_count": 5,
   "id": "882377d3",
   "metadata": {},
   "outputs": [
    {
     "data": {
      "text/plain": [
       "typeof(sum) (singleton type of function sum, subtype of Function)"
      ]
     },
     "metadata": {},
     "output_type": "display_data"
    }
   ],
   "source": [
    "typeof(sum)"
   ]
  },
  {
   "cell_type": "code",
   "execution_count": 6,
   "id": "a68abb75",
   "metadata": {},
   "outputs": [
    {
     "data": {
      "text/plain": [
       "false"
      ]
     },
     "metadata": {},
     "output_type": "display_data"
    }
   ],
   "source": [
    "typeof(sum) == Function"
   ]
  },
  {
   "cell_type": "markdown",
   "id": "18495828",
   "metadata": {},
   "source": [
    "### Types in Julia are arranged in a hierarchy"
   ]
  },
  {
   "cell_type": "code",
   "execution_count": 7,
   "id": "8b2a4772",
   "metadata": {},
   "outputs": [
    {
     "data": {
      "text/plain": [
       "Function"
      ]
     },
     "metadata": {},
     "output_type": "display_data"
    }
   ],
   "source": [
    "supertype(typeof(sum))"
   ]
  },
  {
   "cell_type": "code",
   "execution_count": 8,
   "id": "ae8ec291",
   "metadata": {},
   "outputs": [
    {
     "data": {
      "text/plain": [
       "print_supertypes (generic function with 1 method)"
      ]
     },
     "metadata": {},
     "output_type": "display_data"
    }
   ],
   "source": [
    "function print_supertypes(T)\n",
    "  println(T)\n",
    "  T == Any || print_supertypes(supertype(T))\n",
    "  return nothing\n",
    "end"
   ]
  },
  {
   "cell_type": "code",
   "execution_count": 9,
   "id": "2eda337c",
   "metadata": {},
   "outputs": [
    {
     "name": "stdout",
     "output_type": "stream",
     "text": [
      "Int64\n",
      "Signed\n",
      "Integer\n",
      "Real\n",
      "Number\n",
      "Any\n"
     ]
    }
   ],
   "source": [
    "print_supertypes(Int64)"
   ]
  },
  {
   "cell_type": "code",
   "execution_count": 10,
   "id": "a8a620d0",
   "metadata": {},
   "outputs": [
    {
     "data": {
      "text/plain": [
       "print_subtypes (generic function with 2 methods)"
      ]
     },
     "metadata": {},
     "output_type": "display_data"
    }
   ],
   "source": [
    "function print_subtypes(T, indent_level=0)\n",
    "  println(\" \"^indent_level, T)\n",
    "  for S in subtypes(T)\n",
    "    print_subtypes(S, indent_level + 2)\n",
    "  end\n",
    "  return nothing\n",
    "end"
   ]
  },
  {
   "cell_type": "code",
   "execution_count": 11,
   "id": "f2b6b938",
   "metadata": {},
   "outputs": [
    {
     "name": "stdout",
     "output_type": "stream",
     "text": [
      "Integer\n"
     ]
    },
    {
     "name": "stdout",
     "output_type": "stream",
     "text": [
      "  Bool\n",
      "  Signed\n",
      "    BigInt\n",
      "    Int128\n",
      "    Int16\n",
      "    Int32\n",
      "    Int64\n",
      "    Int8\n",
      "  Unsigned\n",
      "    UInt128\n",
      "    UInt16\n",
      "    UInt32\n",
      "    UInt64\n",
      "    UInt8\n"
     ]
    }
   ],
   "source": [
    "print_subtypes(Integer)"
   ]
  },
  {
   "cell_type": "markdown",
   "id": "c931d316",
   "metadata": {},
   "source": [
    "### Union of types"
   ]
  },
  {
   "cell_type": "code",
   "execution_count": 12,
   "id": "8f1bb2b9",
   "metadata": {},
   "outputs": [
    {
     "data": {
      "text/plain": [
       "Union{Signed, Unsigned}"
      ]
     },
     "metadata": {},
     "output_type": "display_data"
    }
   ],
   "source": [
    "Union{Signed,Unsigned}"
   ]
  },
  {
   "cell_type": "code",
   "execution_count": 13,
   "id": "276c41fb",
   "metadata": {},
   "outputs": [
    {
     "data": {
      "text/plain": [
       "Union{Missing, String}"
      ]
     },
     "metadata": {},
     "output_type": "display_data"
    }
   ],
   "source": [
    "Union{String,Missing}"
   ]
  },
  {
   "cell_type": "markdown",
   "id": "ee05bfc3",
   "metadata": {},
   "source": [
    "### Finding a common supertype for values"
   ]
  },
  {
   "cell_type": "code",
   "execution_count": 14,
   "id": "06d47362",
   "metadata": {},
   "outputs": [
    {
     "name": "stdout",
     "output_type": "stream",
     "text": [
      "Vector{"
     ]
    },
    {
     "name": "stdout",
     "output_type": "stream",
     "text": [
      "Float64}\n",
      "DenseVector{Float64}\n",
      "AbstractVector{Float64}\n",
      "Any\n"
     ]
    }
   ],
   "source": [
    "print_supertypes(typeof([1.0, 2.0, 3.0]))"
   ]
  },
  {
   "cell_type": "code",
   "execution_count": 15,
   "id": "b3724353",
   "metadata": {},
   "outputs": [
    {
     "name": "stdout",
     "output_type": "stream",
     "text": [
      "UnitRange{Int64}\n",
      "AbstractUnitRange{Int64}\n",
      "OrdinalRange{Int64, Int64}\n",
      "AbstractRange{Int64}\n",
      "AbstractVector{Int64}\n",
      "Any\n"
     ]
    }
   ],
   "source": [
    "print_supertypes(typeof(1:3))"
   ]
  },
  {
   "cell_type": "code",
   "execution_count": 16,
   "id": "2c62a19f",
   "metadata": {},
   "outputs": [
    {
     "data": {
      "text/plain": [
       "AbstractVector\u001b[90m (alias for \u001b[39m\u001b[90mAbstractArray{T, 1} where T\u001b[39m\u001b[90m)\u001b[39m"
      ]
     },
     "metadata": {},
     "output_type": "display_data"
    }
   ],
   "source": [
    "AbstractVector"
   ]
  },
  {
   "cell_type": "code",
   "execution_count": 17,
   "id": "511ae19d",
   "metadata": {},
   "outputs": [
    {
     "data": {
      "text/plain": [
       "AbstractVector\u001b[90m (alias for \u001b[39m\u001b[90mAbstractArray{T, 1} where T\u001b[39m\u001b[90m)\u001b[39m"
      ]
     },
     "metadata": {},
     "output_type": "display_data"
    }
   ],
   "source": [
    "typejoin(typeof([1.0, 2.0, 3.0]), typeof(1:3))"
   ]
  },
  {
   "cell_type": "markdown",
   "id": "0f6518b6",
   "metadata": {},
   "source": [
    "## Multiple dispatch in Julia"
   ]
  },
  {
   "cell_type": "markdown",
   "id": "0412457a",
   "metadata": {},
   "source": [
    "### Defining methods of a function"
   ]
  },
  {
   "cell_type": "code",
   "execution_count": 16,
   "id": "dc29af7f",
   "metadata": {},
   "outputs": [
    {
     "data": {
      "text/plain": [
       "fun (generic function with 1 method)"
      ]
     },
     "execution_count": 16,
     "metadata": {},
     "output_type": "execute_result"
    }
   ],
   "source": [
    "fun(x) = println(\"unsupported type\")"
   ]
  },
  {
   "cell_type": "code",
   "execution_count": 17,
   "id": "f001afad",
   "metadata": {},
   "outputs": [
    {
     "data": {
      "text/plain": [
       "fun (generic function with 2 methods)"
      ]
     },
     "execution_count": 17,
     "metadata": {},
     "output_type": "execute_result"
    }
   ],
   "source": [
    "fun(x::Number) = println(\"a number was passed\")"
   ]
  },
  {
   "cell_type": "code",
   "execution_count": 18,
   "id": "37b3e360",
   "metadata": {},
   "outputs": [
    {
     "data": {
      "text/plain": [
       "fun (generic function with 3 methods)"
      ]
     },
     "execution_count": 18,
     "metadata": {},
     "output_type": "execute_result"
    }
   ],
   "source": [
    "fun(x::Float64) = println(\"a Float64 value\")"
   ]
  },
  {
   "cell_type": "code",
   "execution_count": 19,
   "id": "ca7fe922",
   "metadata": {},
   "outputs": [
    {
     "data": {
      "text/html": [
       "# 3 methods for generic function <b>fun</b>:<ul><li> fun(x::<b>Float64</b>) in Main at In[18]:1</li> <li> fun(x::<b>Number</b>) in Main at In[17]:1</li> <li> fun(x) in Main at In[16]:1</li> </ul>"
      ],
      "text/plain": [
       "# 3 methods for generic function \"fun\":\n",
       "[1] fun(x::Float64) in Main at In[18]:1\n",
       "[2] fun(x::Number) in Main at In[17]:1\n",
       "[3] fun(x) in Main at In[16]:1"
      ]
     },
     "execution_count": 19,
     "metadata": {},
     "output_type": "execute_result"
    }
   ],
   "source": [
    "methods(fun)"
   ]
  },
  {
   "cell_type": "code",
   "execution_count": 20,
   "id": "03e5877b",
   "metadata": {},
   "outputs": [
    {
     "name": "stdout",
     "output_type": "stream",
     "text": [
      "unsupported type\n"
     ]
    }
   ],
   "source": [
    "fun(\"hello!\")"
   ]
  },
  {
   "cell_type": "code",
   "execution_count": 21,
   "id": "2cd9a331",
   "metadata": {},
   "outputs": [
    {
     "name": "stdout",
     "output_type": "stream",
     "text": [
      "a number was passed\n"
     ]
    }
   ],
   "source": [
    "fun(1)"
   ]
  },
  {
   "cell_type": "code",
   "execution_count": 22,
   "id": "7e7cb37a",
   "metadata": {},
   "outputs": [
    {
     "name": "stdout",
     "output_type": "stream",
     "text": [
      "a Float64 value\n"
     ]
    }
   ],
   "source": [
    "fun(1.0)"
   ]
  },
  {
   "cell_type": "markdown",
   "id": "e71220a0",
   "metadata": {},
   "source": [
    "### Method ambiguity problem"
   ]
  },
  {
   "cell_type": "code",
   "execution_count": 23,
   "id": "fc6c78fd",
   "metadata": {},
   "outputs": [
    {
     "data": {
      "text/plain": [
       "bar (generic function with 1 method)"
      ]
     },
     "execution_count": 23,
     "metadata": {},
     "output_type": "execute_result"
    }
   ],
   "source": [
    "bar(x, y) = \"no numbers passed\""
   ]
  },
  {
   "cell_type": "code",
   "execution_count": 24,
   "id": "44a09238",
   "metadata": {},
   "outputs": [
    {
     "data": {
      "text/plain": [
       "bar (generic function with 2 methods)"
      ]
     },
     "execution_count": 24,
     "metadata": {},
     "output_type": "execute_result"
    }
   ],
   "source": [
    "bar(x::Number, y) = \"first argument is a number\""
   ]
  },
  {
   "cell_type": "code",
   "execution_count": 25,
   "id": "9b98f98c",
   "metadata": {},
   "outputs": [
    {
     "data": {
      "text/plain": [
       "bar (generic function with 3 methods)"
      ]
     },
     "execution_count": 25,
     "metadata": {},
     "output_type": "execute_result"
    }
   ],
   "source": [
    "bar(x, y::Number) = \"second argument is a number\""
   ]
  },
  {
   "cell_type": "code",
   "execution_count": 26,
   "id": "7d76169e",
   "metadata": {},
   "outputs": [
    {
     "data": {
      "text/plain": [
       "\"no numbers passed\""
      ]
     },
     "execution_count": 26,
     "metadata": {},
     "output_type": "execute_result"
    }
   ],
   "source": [
    "bar(\"hello\", \"world\")"
   ]
  },
  {
   "cell_type": "code",
   "execution_count": 27,
   "id": "b51a821f",
   "metadata": {},
   "outputs": [
    {
     "data": {
      "text/plain": [
       "\"first argument is a number\""
      ]
     },
     "execution_count": 27,
     "metadata": {},
     "output_type": "execute_result"
    }
   ],
   "source": [
    "bar(1, \"world\")"
   ]
  },
  {
   "cell_type": "code",
   "execution_count": 28,
   "id": "06e7dfb7",
   "metadata": {},
   "outputs": [
    {
     "data": {
      "text/plain": [
       "\"second argument is a number\""
      ]
     },
     "execution_count": 28,
     "metadata": {},
     "output_type": "execute_result"
    }
   ],
   "source": [
    "bar(\"hello\", 2)"
   ]
  },
  {
   "cell_type": "code",
   "execution_count": 29,
   "id": "a6930109",
   "metadata": {},
   "outputs": [
    {
     "ename": "LoadError",
     "evalue": "MethodError: bar(::Int64, ::Int64) is ambiguous. Candidates:\n  bar(x::Number, y) in Main at In[24]:1\n  bar(x, y::Number) in Main at In[25]:1\nPossible fix, define\n  bar(::Number, ::Number)",
     "output_type": "error",
     "traceback": [
      "MethodError: bar(::Int64, ::Int64) is ambiguous. Candidates:\n  bar(x::Number, y) in Main at In[24]:1\n  bar(x, y::Number) in Main at In[25]:1\nPossible fix, define\n  bar(::Number, ::Number)",
      "",
      "Stacktrace:",
      " [1] top-level scope",
      "   @ In[29]:1",
      " [2] eval",
      "   @ .\\boot.jl:373 [inlined]",
      " [3] include_string(mapexpr::typeof(REPL.softscope), mod::Module, code::String, filename::String)",
      "   @ Base .\\loading.jl:1196"
     ]
    }
   ],
   "source": [
    "bar(1, 2)"
   ]
  },
  {
   "cell_type": "code",
   "execution_count": 30,
   "id": "f294005c",
   "metadata": {},
   "outputs": [
    {
     "data": {
      "text/plain": [
       "bar (generic function with 4 methods)"
      ]
     },
     "execution_count": 30,
     "metadata": {},
     "output_type": "execute_result"
    }
   ],
   "source": [
    " bar(x::Number, y::Number) = \"both arguments are numbers\""
   ]
  },
  {
   "cell_type": "code",
   "execution_count": 31,
   "id": "ee9ce0df",
   "metadata": {},
   "outputs": [
    {
     "data": {
      "text/plain": [
       "\"both arguments are numbers\""
      ]
     },
     "execution_count": 31,
     "metadata": {},
     "output_type": "execute_result"
    }
   ],
   "source": [
    "bar(1, 2)"
   ]
  },
  {
   "cell_type": "code",
   "execution_count": 32,
   "id": "66568f71",
   "metadata": {},
   "outputs": [
    {
     "data": {
      "text/html": [
       "# 4 methods for generic function <b>bar</b>:<ul><li> bar(x::<b>Number</b>, y::<b>Number</b>) in Main at In[30]:1</li> <li> bar(x::<b>Number</b>, y) in Main at In[24]:1</li> <li> bar(x, y::<b>Number</b>) in Main at In[25]:1</li> <li> bar(x, y) in Main at In[23]:1</li> </ul>"
      ],
      "text/plain": [
       "# 4 methods for generic function \"bar\":\n",
       "[1] bar(x::Number, y::Number) in Main at In[30]:1\n",
       "[2] bar(x::Number, y) in Main at In[24]:1\n",
       "[3] bar(x, y::Number) in Main at In[25]:1\n",
       "[4] bar(x, y) in Main at In[23]:1"
      ]
     },
     "execution_count": 32,
     "metadata": {},
     "output_type": "execute_result"
    }
   ],
   "source": [
    "methods(bar)"
   ]
  },
  {
   "cell_type": "markdown",
   "id": "000ec306",
   "metadata": {},
   "source": [
    "### Improved implementation of Winsorized mean"
   ]
  },
  {
   "cell_type": "code",
   "execution_count": 33,
   "id": "54bff944",
   "metadata": {},
   "outputs": [
    {
     "data": {
      "text/plain": [
       "winsorized_mean (generic function with 1 method)"
      ]
     },
     "execution_count": 33,
     "metadata": {},
     "output_type": "execute_result"
    }
   ],
   "source": [
    "function winsorized_mean(x::AbstractVector, k::Integer)\n",
    "    k >= 0 || throw(ArgumentError(\"k must be non-negative\"))\n",
    "    length(x) > 2 * k || throw(ArgumentError(\"k is too large\"))\n",
    "    y = sort!(collect(x))\n",
    "    for i in 1:k\n",
    "        y[i] = y[k + 1]\n",
    "        y[end - i + 1] = y[end - k]\n",
    "    end\n",
    "    return sum(y) / length(y)\n",
    "end"
   ]
  },
  {
   "cell_type": "code",
   "execution_count": 34,
   "id": "fa75ad29",
   "metadata": {},
   "outputs": [
    {
     "data": {
      "text/plain": [
       "5.0"
      ]
     },
     "execution_count": 34,
     "metadata": {},
     "output_type": "execute_result"
    }
   ],
   "source": [
    "winsorized_mean([8, 3, 1, 5, 7], 1)"
   ]
  },
  {
   "cell_type": "code",
   "execution_count": 35,
   "id": "4e8ed84b",
   "metadata": {},
   "outputs": [
    {
     "data": {
      "text/plain": [
       "5.5"
      ]
     },
     "execution_count": 35,
     "metadata": {},
     "output_type": "execute_result"
    }
   ],
   "source": [
    "winsorized_mean(1:10, 2)"
   ]
  },
  {
   "cell_type": "code",
   "execution_count": 36,
   "id": "909da7b0",
   "metadata": {},
   "outputs": [
    {
     "ename": "LoadError",
     "evalue": "MethodError: no method matching winsorized_mean(::UnitRange{Int64}, ::String)\n\u001b[0mClosest candidates are:\n\u001b[0m  winsorized_mean(::AbstractVector, \u001b[91m::Integer\u001b[39m) at In[33]:1",
     "output_type": "error",
     "traceback": [
      "MethodError: no method matching winsorized_mean(::UnitRange{Int64}, ::String)\n\u001b[0mClosest candidates are:\n\u001b[0m  winsorized_mean(::AbstractVector, \u001b[91m::Integer\u001b[39m) at In[33]:1",
      "",
      "Stacktrace:",
      " [1] top-level scope",
      "   @ In[36]:1",
      " [2] eval",
      "   @ .\\boot.jl:373 [inlined]",
      " [3] include_string(mapexpr::typeof(REPL.softscope), mod::Module, code::String, filename::String)",
      "   @ Base .\\loading.jl:1196"
     ]
    }
   ],
   "source": [
    "winsorized_mean(1:10, \"a\")"
   ]
  },
  {
   "cell_type": "code",
   "execution_count": 37,
   "id": "d0b2b838",
   "metadata": {},
   "outputs": [
    {
     "ename": "LoadError",
     "evalue": "MethodError: no method matching winsorized_mean(::Int64, ::Int64)\n\u001b[0mClosest candidates are:\n\u001b[0m  winsorized_mean(\u001b[91m::AbstractVector\u001b[39m, ::Integer) at In[33]:1",
     "output_type": "error",
     "traceback": [
      "MethodError: no method matching winsorized_mean(::Int64, ::Int64)\n\u001b[0mClosest candidates are:\n\u001b[0m  winsorized_mean(\u001b[91m::AbstractVector\u001b[39m, ::Integer) at In[33]:1",
      "",
      "Stacktrace:",
      " [1] top-level scope",
      "   @ In[37]:1",
      " [2] eval",
      "   @ .\\boot.jl:373 [inlined]",
      " [3] include_string(mapexpr::typeof(REPL.softscope), mod::Module, code::String, filename::String)",
      "   @ Base .\\loading.jl:1196"
     ]
    }
   ],
   "source": [
    "winsorized_mean(10, 1)"
   ]
  },
  {
   "cell_type": "code",
   "execution_count": 38,
   "id": "0e3f0be3",
   "metadata": {},
   "outputs": [
    {
     "ename": "LoadError",
     "evalue": "ArgumentError: k must be non-negative",
     "output_type": "error",
     "traceback": [
      "ArgumentError: k must be non-negative",
      "",
      "Stacktrace:",
      " [1] winsorized_mean(x::UnitRange{Int64}, k::Int64)",
      "   @ Main .\\In[33]:2",
      " [2] top-level scope",
      "   @ In[38]:1",
      " [3] eval",
      "   @ .\\boot.jl:373 [inlined]",
      " [4] include_string(mapexpr::typeof(REPL.softscope), mod::Module, code::String, filename::String)",
      "   @ Base .\\loading.jl:1196"
     ]
    }
   ],
   "source": [
    "winsorized_mean(1:10, -1)"
   ]
  },
  {
   "cell_type": "code",
   "execution_count": 39,
   "id": "157f95e0",
   "metadata": {},
   "outputs": [
    {
     "ename": "LoadError",
     "evalue": "ArgumentError: k is too large",
     "output_type": "error",
     "traceback": [
      "ArgumentError: k is too large",
      "",
      "Stacktrace:",
      " [1] winsorized_mean(x::UnitRange{Int64}, k::Int64)",
      "   @ Main .\\In[33]:3",
      " [2] top-level scope",
      "   @ In[39]:1",
      " [3] eval",
      "   @ .\\boot.jl:373 [inlined]",
      " [4] include_string(mapexpr::typeof(REPL.softscope), mod::Module, code::String, filename::String)",
      "   @ Base .\\loading.jl:1196"
     ]
    }
   ],
   "source": [
    "winsorized_mean(1:10, 5)"
   ]
  },
  {
   "cell_type": "markdown",
   "id": "dd91b039",
   "metadata": {},
   "source": [
    "## Working with packages and modules"
   ]
  },
  {
   "cell_type": "markdown",
   "id": "7daa5831",
   "metadata": {},
   "source": [
    "### Including files"
   ]
  },
  {
   "cell_type": "code",
   "execution_count": null,
   "id": "a3d26ab0",
   "metadata": {},
   "outputs": [],
   "source": [
    "include(\"file1.jl\")\n",
    "include(\"file2.jl\")\n",
    "include(\"file3.jl\")"
   ]
  },
  {
   "cell_type": "markdown",
   "id": "ab2648a4",
   "metadata": {},
   "source": [
    "### Defining modules"
   ]
  },
  {
   "cell_type": "code",
   "execution_count": 40,
   "id": "a3a2d6c5",
   "metadata": {},
   "outputs": [
    {
     "data": {
      "text/plain": [
       "Main.ExampleModule"
      ]
     },
     "execution_count": 40,
     "metadata": {},
     "output_type": "execute_result"
    }
   ],
   "source": [
    "module ExampleModule\n",
    "    function example()\n",
    "        println(\"Hello\")\n",
    "    end\n",
    "end # ExampleModule"
   ]
  },
  {
   "cell_type": "markdown",
   "id": "9bd178b1",
   "metadata": {},
   "source": [
    "### Using packages"
   ]
  },
  {
   "cell_type": "code",
   "execution_count": 41,
   "id": "5f69a2dd",
   "metadata": {},
   "outputs": [
    {
     "data": {
      "text/plain": [
       "3-element Vector{Int64}:\n",
       " 1\n",
       " 2\n",
       " 3"
      ]
     },
     "execution_count": 41,
     "metadata": {},
     "output_type": "execute_result"
    }
   ],
   "source": [
    "import Statistics\n",
    "x = [1, 2, 3]"
   ]
  },
  {
   "cell_type": "code",
   "execution_count": 42,
   "id": "0155cbbd",
   "metadata": {},
   "outputs": [
    {
     "ename": "LoadError",
     "evalue": "UndefVarError: mean not defined",
     "output_type": "error",
     "traceback": [
      "UndefVarError: mean not defined",
      "",
      "Stacktrace:",
      " [1] top-level scope",
      "   @ In[42]:1",
      " [2] eval",
      "   @ .\\boot.jl:373 [inlined]",
      " [3] include_string(mapexpr::typeof(REPL.softscope), mod::Module, code::String, filename::String)",
      "   @ Base .\\loading.jl:1196"
     ]
    }
   ],
   "source": [
    "mean(x)"
   ]
  },
  {
   "cell_type": "code",
   "execution_count": 43,
   "id": "2b44a444",
   "metadata": {},
   "outputs": [
    {
     "data": {
      "text/plain": [
       "2.0"
      ]
     },
     "execution_count": 43,
     "metadata": {},
     "output_type": "execute_result"
    }
   ],
   "source": [
    "Statistics.mean(x)"
   ]
  },
  {
   "cell_type": "code",
   "execution_count": 44,
   "id": "bc9b542f",
   "metadata": {},
   "outputs": [
    {
     "data": {
      "text/plain": [
       "2.0"
      ]
     },
     "execution_count": 44,
     "metadata": {},
     "output_type": "execute_result"
    }
   ],
   "source": [
    "using Statistics\n",
    "mean(x)"
   ]
  },
  {
   "cell_type": "markdown",
   "id": "2b6b9648",
   "metadata": {},
   "source": [
    "### Using the StatsBase.jl package to compute Winsorized mean"
   ]
  },
  {
   "cell_type": "code",
   "execution_count": 45,
   "id": "cdbe7838",
   "metadata": {},
   "outputs": [],
   "source": [
    "using Statistics\n",
    "using StatsBase"
   ]
  },
  {
   "cell_type": "code",
   "execution_count": 46,
   "id": "fcfcd091",
   "metadata": {},
   "outputs": [
    {
     "name": "stdout",
     "output_type": "stream",
     "text": [
      "search: \u001b[0m\u001b[1mw\u001b[22m\u001b[0m\u001b[1mi\u001b[22m\u001b[0m\u001b[1mn\u001b[22m\u001b[0m\u001b[1ms\u001b[22m\u001b[0m\u001b[1mo\u001b[22m\u001b[0m\u001b[1mr\u001b[22m \u001b[0m\u001b[1mw\u001b[22m\u001b[0m\u001b[1mi\u001b[22m\u001b[0m\u001b[1mn\u001b[22m\u001b[0m\u001b[1ms\u001b[22m\u001b[0m\u001b[1mo\u001b[22m\u001b[0m\u001b[1mr\u001b[22m! \u001b[0m\u001b[1mw\u001b[22m\u001b[0m\u001b[1mi\u001b[22m\u001b[0m\u001b[1mn\u001b[22m\u001b[0m\u001b[1ms\u001b[22m\u001b[0m\u001b[1mo\u001b[22m\u001b[0m\u001b[1mr\u001b[22mized_mean\n",
      "\n"
     ]
    },
    {
     "data": {
      "text/latex": [
       "\\begin{verbatim}\n",
       "winsor(x::AbstractVector; prop=0.0, count=0)\n",
       "\\end{verbatim}\n",
       "Return an iterator of all elements of \\texttt{x} that replaces either \\texttt{count} or proportion \\texttt{prop} of the highest elements with the previous-highest element and an equal number of the lowest elements with the next-lowest element.\n",
       "\n",
       "The number of replaced elements could be smaller than specified if several elements equal the lower or upper bound.\n",
       "\n",
       "To compute the Winsorized mean of \\texttt{x} use \\texttt{mean(winsor(x))}.\n",
       "\n",
       "\\section{Example}\n",
       "\\begin{verbatim}\n",
       "julia> collect(winsor([5,2,3,4,1], prop=0.2))\n",
       "5-element Array{Int64,1}:\n",
       " 4\n",
       " 2\n",
       " 3\n",
       " 4\n",
       " 2\n",
       "\\end{verbatim}\n"
      ],
      "text/markdown": [
       "```\n",
       "winsor(x::AbstractVector; prop=0.0, count=0)\n",
       "```\n",
       "\n",
       "Return an iterator of all elements of `x` that replaces either `count` or proportion `prop` of the highest elements with the previous-highest element and an equal number of the lowest elements with the next-lowest element.\n",
       "\n",
       "The number of replaced elements could be smaller than specified if several elements equal the lower or upper bound.\n",
       "\n",
       "To compute the Winsorized mean of `x` use `mean(winsor(x))`.\n",
       "\n",
       "# Example\n",
       "\n",
       "```julia\n",
       "julia> collect(winsor([5,2,3,4,1], prop=0.2))\n",
       "5-element Array{Int64,1}:\n",
       " 4\n",
       " 2\n",
       " 3\n",
       " 4\n",
       " 2\n",
       "```\n"
      ],
      "text/plain": [
       "\u001b[36m  winsor(x::AbstractVector; prop=0.0, count=0)\u001b[39m\n",
       "\n",
       "  Return an iterator of all elements of \u001b[36mx\u001b[39m that replaces either \u001b[36mcount\u001b[39m or\n",
       "  proportion \u001b[36mprop\u001b[39m of the highest elements with the previous-highest element\n",
       "  and an equal number of the lowest elements with the next-lowest element.\n",
       "\n",
       "  The number of replaced elements could be smaller than specified if several\n",
       "  elements equal the lower or upper bound.\n",
       "\n",
       "  To compute the Winsorized mean of \u001b[36mx\u001b[39m use \u001b[36mmean(winsor(x))\u001b[39m.\n",
       "\n",
       "\u001b[1m  Example\u001b[22m\n",
       "\u001b[1m  ≡≡≡≡≡≡≡≡≡\u001b[22m\n",
       "\n",
       "\u001b[36m  julia> collect(winsor([5,2,3,4,1], prop=0.2))\u001b[39m\n",
       "\u001b[36m  5-element Array{Int64,1}:\u001b[39m\n",
       "\u001b[36m   4\u001b[39m\n",
       "\u001b[36m   2\u001b[39m\n",
       "\u001b[36m   3\u001b[39m\n",
       "\u001b[36m   4\u001b[39m\n",
       "\u001b[36m   2\u001b[39m"
      ]
     },
     "execution_count": 46,
     "metadata": {},
     "output_type": "execute_result"
    }
   ],
   "source": [
    "? winsor"
   ]
  },
  {
   "cell_type": "code",
   "execution_count": 47,
   "id": "9561c92f",
   "metadata": {},
   "outputs": [
    {
     "data": {
      "text/plain": [
       "5.0"
      ]
     },
     "execution_count": 47,
     "metadata": {},
     "output_type": "execute_result"
    }
   ],
   "source": [
    "mean(winsor([8, 3, 1, 5, 7], count=1))"
   ]
  },
  {
   "cell_type": "markdown",
   "id": "21358773",
   "metadata": {},
   "source": [
    "## Using macros"
   ]
  },
  {
   "cell_type": "markdown",
   "id": "971c1038",
   "metadata": {},
   "source": [
    "### Macro syntax"
   ]
  },
  {
   "cell_type": "code",
   "execution_count": 48,
   "id": "d8d6d829",
   "metadata": {},
   "outputs": [
    {
     "name": "stdout",
     "output_type": "stream",
     "text": [
      "  0.000000 seconds\n"
     ]
    },
    {
     "data": {
      "text/plain": [
       "3"
      ]
     },
     "execution_count": 48,
     "metadata": {},
     "output_type": "execute_result"
    }
   ],
   "source": [
    "@time 1 + 2"
   ]
  },
  {
   "cell_type": "code",
   "execution_count": 49,
   "id": "6d20cc2c",
   "metadata": {},
   "outputs": [
    {
     "name": "stdout",
     "output_type": "stream",
     "text": [
      "  0.000001 seconds\n"
     ]
    },
    {
     "data": {
      "text/plain": [
       "3"
      ]
     },
     "execution_count": 49,
     "metadata": {},
     "output_type": "execute_result"
    }
   ],
   "source": [
    "@time(1 + 2)"
   ]
  },
  {
   "cell_type": "code",
   "execution_count": 50,
   "id": "859de814",
   "metadata": {},
   "outputs": [
    {
     "ename": "LoadError",
     "evalue": "AssertionError: 1 is not equal 2",
     "output_type": "error",
     "traceback": [
      "AssertionError: 1 is not equal 2",
      "",
      "Stacktrace:",
      " [1] top-level scope",
      "   @ In[50]:1",
      " [2] eval",
      "   @ .\\boot.jl:373 [inlined]",
      " [3] include_string(mapexpr::typeof(REPL.softscope), mod::Module, code::String, filename::String)",
      "   @ Base .\\loading.jl:1196"
     ]
    }
   ],
   "source": [
    "@assert 1 == 2 \"1 is not equal 2\""
   ]
  },
  {
   "cell_type": "code",
   "execution_count": 51,
   "id": "9c8a33f3",
   "metadata": {},
   "outputs": [
    {
     "ename": "LoadError",
     "evalue": "AssertionError: 1 is not equal 2",
     "output_type": "error",
     "traceback": [
      "AssertionError: 1 is not equal 2",
      "",
      "Stacktrace:",
      " [1] top-level scope",
      "   @ In[51]:1",
      " [2] eval",
      "   @ .\\boot.jl:373 [inlined]",
      " [3] include_string(mapexpr::typeof(REPL.softscope), mod::Module, code::String, filename::String)",
      "   @ Base .\\loading.jl:1196"
     ]
    }
   ],
   "source": [
    "@assert(1 == 2, \"1 is not equal 2\")"
   ]
  },
  {
   "cell_type": "code",
   "execution_count": 52,
   "id": "52a9b33e",
   "metadata": {},
   "outputs": [
    {
     "data": {
      "text/plain": [
       ":(if 1 == 2\n",
       "      nothing\n",
       "  else\n",
       "      Base.throw(Base.AssertionError(\"1 is not equal 2\"))\n",
       "  end)"
      ]
     },
     "execution_count": 52,
     "metadata": {},
     "output_type": "execute_result"
    }
   ],
   "source": [
    "@macroexpand @assert(1 == 2, \"1 is not equal 2\")"
   ]
  },
  {
   "cell_type": "code",
   "execution_count": 53,
   "id": "32ed6c2a",
   "metadata": {},
   "outputs": [
    {
     "data": {
      "text/plain": [
       "quote\n",
       "    \u001b[90m#= timing.jl:216 =#\u001b[39m\n",
       "    while false\n",
       "        \u001b[90m#= timing.jl:216 =#\u001b[39m\n",
       "    end\n",
       "    \u001b[90m#= timing.jl:217 =#\u001b[39m\n",
       "    local var\"#39#stats\" = Base.gc_num()\n",
       "    \u001b[90m#= timing.jl:218 =#\u001b[39m\n",
       "    local var\"#41#elapsedtime\" = Base.time_ns()\n",
       "    \u001b[90m#= timing.jl:219 =#\u001b[39m\n",
       "    local var\"#42#compile_elapsedtime\" = Base.cumulative_compile_time_ns_before()\n",
       "    \u001b[90m#= timing.jl:220 =#\u001b[39m\n",
       "    local var\"#40#val\" = $(Expr(:tryfinally, :(1 + 2), quote\n",
       "    var\"#41#elapsedtime\" = Base.time_ns() - var\"#41#elapsedtime\"\n",
       "    \u001b[90m#= timing.jl:222 =#\u001b[39m\n",
       "    var\"#42#compile_elapsedtime\" = Base.cumulative_compile_time_ns_after() - var\"#42#compile_elapsedtime\"\n",
       "end))\n",
       "    \u001b[90m#= timing.jl:224 =#\u001b[39m\n",
       "    local var\"#43#diff\" = Base.GC_Diff(Base.gc_num(), var\"#39#stats\")\n",
       "    \u001b[90m#= timing.jl:225 =#\u001b[39m\n",
       "    Base.time_print(var\"#41#elapsedtime\", (var\"#43#diff\").allocd, (var\"#43#diff\").total_time, Base.gc_alloc_count(var\"#43#diff\"), var\"#42#compile_elapsedtime\", true)\n",
       "    \u001b[90m#= timing.jl:226 =#\u001b[39m\n",
       "    var\"#40#val\"\n",
       "end"
      ]
     },
     "execution_count": 53,
     "metadata": {},
     "output_type": "execute_result"
    }
   ],
   "source": [
    "@macroexpand @time 1 + 2"
   ]
  },
  {
   "cell_type": "markdown",
   "id": "7ccbb81e",
   "metadata": {},
   "source": [
    "### Benchmarking with macros"
   ]
  },
  {
   "cell_type": "code",
   "execution_count": 54,
   "id": "246e8683",
   "metadata": {},
   "outputs": [
    {
     "data": {
      "text/plain": [
       "BenchmarkTools.Trial: 90 samples with 1 evaluation.\n",
       " Range \u001b[90m(\u001b[39m\u001b[36m\u001b[1mmin\u001b[22m\u001b[39m … \u001b[35mmax\u001b[39m\u001b[90m):  \u001b[39m\u001b[36m\u001b[1m53.340 ms\u001b[22m\u001b[39m … \u001b[35m58.776 ms\u001b[39m  \u001b[90m┊\u001b[39m GC \u001b[90m(\u001b[39mmin … max\u001b[90m): \u001b[39m0.00% … 0.00%\n",
       " Time  \u001b[90m(\u001b[39m\u001b[34m\u001b[1mmedian\u001b[22m\u001b[39m\u001b[90m):     \u001b[39m\u001b[34m\u001b[1m55.912 ms              \u001b[22m\u001b[39m\u001b[90m┊\u001b[39m GC \u001b[90m(\u001b[39mmedian\u001b[90m):    \u001b[39m0.00%\n",
       " Time  \u001b[90m(\u001b[39m\u001b[32m\u001b[1mmean\u001b[22m\u001b[39m ± \u001b[32mσ\u001b[39m\u001b[90m):   \u001b[39m\u001b[32m\u001b[1m55.910 ms\u001b[22m\u001b[39m ± \u001b[32m 1.484 ms\u001b[39m  \u001b[90m┊\u001b[39m GC \u001b[90m(\u001b[39mmean ± σ\u001b[90m):  \u001b[39m0.59% ± 1.30%\n",
       "\n",
       "  \u001b[39m \u001b[39m \u001b[39m█\u001b[39m \u001b[39m▁\u001b[39m \u001b[39m \u001b[39m▄\u001b[39m▁\u001b[39m▁\u001b[39m \u001b[39m \u001b[39m \u001b[39m▄\u001b[39m \u001b[39m \u001b[39m \u001b[39m \u001b[39m \u001b[39m \u001b[39m▄\u001b[39m█\u001b[39m \u001b[39m█\u001b[39m \u001b[39m▁\u001b[39m▄\u001b[39m \u001b[39m \u001b[34m▄\u001b[39m\u001b[39m▄\u001b[39m \u001b[39m▁\u001b[39m \u001b[39m \u001b[39m \u001b[39m \u001b[39m \u001b[39m▁\u001b[39m▄\u001b[39m▁\u001b[39m▁\u001b[39m▁\u001b[39m▁\u001b[39m \u001b[39m \u001b[39m▁\u001b[39m█\u001b[39m \u001b[39m \u001b[39m \u001b[39m \u001b[39m \u001b[39m \u001b[39m▁\u001b[39m▁\u001b[39m▁\u001b[39m \u001b[39m \u001b[39m \u001b[39m \n",
       "  \u001b[39m▆\u001b[39m▆\u001b[39m█\u001b[39m▆\u001b[39m█\u001b[39m▁\u001b[39m▆\u001b[39m█\u001b[39m█\u001b[39m█\u001b[39m▆\u001b[39m▁\u001b[39m▆\u001b[39m█\u001b[39m▆\u001b[39m▁\u001b[39m▆\u001b[39m▆\u001b[39m▆\u001b[39m▆\u001b[39m█\u001b[39m█\u001b[39m▆\u001b[39m█\u001b[39m▁\u001b[39m█\u001b[39m█\u001b[39m▁\u001b[39m▆\u001b[34m█\u001b[39m\u001b[39m█\u001b[39m▁\u001b[39m█\u001b[39m▆\u001b[39m▆\u001b[39m▆\u001b[39m▆\u001b[39m▆\u001b[39m█\u001b[39m█\u001b[39m█\u001b[39m█\u001b[39m█\u001b[39m█\u001b[39m▆\u001b[39m▆\u001b[39m█\u001b[39m█\u001b[39m▁\u001b[39m▆\u001b[39m▆\u001b[39m▆\u001b[39m▁\u001b[39m▁\u001b[39m█\u001b[39m█\u001b[39m█\u001b[39m▁\u001b[39m▆\u001b[39m \u001b[39m▁\n",
       "  53.3 ms\u001b[90m         Histogram: frequency by time\u001b[39m        58.6 ms \u001b[0m\u001b[1m<\u001b[22m\n",
       "\n",
       " Memory estimate\u001b[90m: \u001b[39m\u001b[33m7.63 MiB\u001b[39m, allocs estimate\u001b[90m: \u001b[39m\u001b[33m2\u001b[39m."
      ]
     },
     "execution_count": 54,
     "metadata": {},
     "output_type": "execute_result"
    }
   ],
   "source": [
    "using BenchmarkTools\n",
    "x = rand(10^6); # use ; at the end of the expression passed in REPL to suppress printing its value to the terminal\n",
    "@benchmark winsorized_mean($x, 10^5) # since x is a global variable use $x to ensure proper benchmarking of the tested code"
   ]
  },
  {
   "cell_type": "code",
   "execution_count": 55,
   "id": "ab1827dc",
   "metadata": {},
   "outputs": [
    {
     "data": {
      "text/plain": [
       "BenchmarkTools.Trial: 347 samples with 1 evaluation.\n",
       " Range \u001b[90m(\u001b[39m\u001b[36m\u001b[1mmin\u001b[22m\u001b[39m … \u001b[35mmax\u001b[39m\u001b[90m):  \u001b[39m\u001b[36m\u001b[1m13.046 ms\u001b[22m\u001b[39m … \u001b[35m23.587 ms\u001b[39m  \u001b[90m┊\u001b[39m GC \u001b[90m(\u001b[39mmin … max\u001b[90m): \u001b[39m0.00% … 15.44%\n",
       " Time  \u001b[90m(\u001b[39m\u001b[34m\u001b[1mmedian\u001b[22m\u001b[39m\u001b[90m):     \u001b[39m\u001b[34m\u001b[1m13.988 ms              \u001b[22m\u001b[39m\u001b[90m┊\u001b[39m GC \u001b[90m(\u001b[39mmedian\u001b[90m):    \u001b[39m0.00%\n",
       " Time  \u001b[90m(\u001b[39m\u001b[32m\u001b[1mmean\u001b[22m\u001b[39m ± \u001b[32mσ\u001b[39m\u001b[90m):   \u001b[39m\u001b[32m\u001b[1m14.426 ms\u001b[22m\u001b[39m ± \u001b[32m 1.228 ms\u001b[39m  \u001b[90m┊\u001b[39m GC \u001b[90m(\u001b[39mmean ± σ\u001b[90m):  \u001b[39m2.43% ±  4.88%\n",
       "\n",
       "  \u001b[39m \u001b[39m \u001b[39m \u001b[39m \u001b[39m \u001b[39m█\u001b[39m█\u001b[39m▂\u001b[39m▆\u001b[34m \u001b[39m\u001b[39m \u001b[39m \u001b[39m \u001b[39m \u001b[32m \u001b[39m\u001b[39m \u001b[39m \u001b[39m \u001b[39m \u001b[39m \u001b[39m \u001b[39m \u001b[39m \u001b[39m \u001b[39m \u001b[39m \u001b[39m \u001b[39m \u001b[39m \u001b[39m \u001b[39m \u001b[39m \u001b[39m \u001b[39m \u001b[39m \u001b[39m \u001b[39m \u001b[39m \u001b[39m \u001b[39m \u001b[39m \u001b[39m \u001b[39m \u001b[39m \u001b[39m \u001b[39m \u001b[39m \u001b[39m \u001b[39m \u001b[39m \u001b[39m \u001b[39m \u001b[39m \u001b[39m \u001b[39m \u001b[39m \u001b[39m \u001b[39m \u001b[39m \u001b[39m \u001b[39m \n",
       "  \u001b[39m▄\u001b[39m▅\u001b[39m▃\u001b[39m▄\u001b[39m▄\u001b[39m█\u001b[39m█\u001b[39m█\u001b[39m█\u001b[34m▇\u001b[39m\u001b[39m▇\u001b[39m▅\u001b[39m▇\u001b[39m▆\u001b[32m▇\u001b[39m\u001b[39m▅\u001b[39m▄\u001b[39m▃\u001b[39m▃\u001b[39m▃\u001b[39m▄\u001b[39m▃\u001b[39m▃\u001b[39m▃\u001b[39m▄\u001b[39m▄\u001b[39m▅\u001b[39m▃\u001b[39m▄\u001b[39m▃\u001b[39m▂\u001b[39m▃\u001b[39m▃\u001b[39m▃\u001b[39m▃\u001b[39m▃\u001b[39m▂\u001b[39m▂\u001b[39m▂\u001b[39m▂\u001b[39m▁\u001b[39m▂\u001b[39m▂\u001b[39m▁\u001b[39m▁\u001b[39m▁\u001b[39m▁\u001b[39m▁\u001b[39m▁\u001b[39m▁\u001b[39m▂\u001b[39m▁\u001b[39m▁\u001b[39m▁\u001b[39m▁\u001b[39m▂\u001b[39m▁\u001b[39m▁\u001b[39m▂\u001b[39m \u001b[39m▃\n",
       "  13 ms\u001b[90m           Histogram: frequency by time\u001b[39m          19 ms \u001b[0m\u001b[1m<\u001b[22m\n",
       "\n",
       " Memory estimate\u001b[90m: \u001b[39m\u001b[33m7.63 MiB\u001b[39m, allocs estimate\u001b[90m: \u001b[39m\u001b[33m2\u001b[39m."
      ]
     },
     "execution_count": 55,
     "metadata": {},
     "output_type": "execute_result"
    }
   ],
   "source": [
    "using Statistics\n",
    "using StatsBase\n",
    "@benchmark mean(winsor($x; count=10^5))"
   ]
  },
  {
   "cell_type": "code",
   "execution_count": 56,
   "id": "a7e374e2",
   "metadata": {},
   "outputs": [
    {
     "name": "stdout",
     "output_type": "stream",
     "text": [
      "  12.982 ms (2 allocations: 7.63 MiB)\n"
     ]
    },
    {
     "data": {
      "text/plain": [
       "0.4997748954801521"
      ]
     },
     "execution_count": 56,
     "metadata": {},
     "output_type": "execute_result"
    }
   ],
   "source": [
    "@btime mean(winsor($x; count=10^5))"
   ]
  }
 ],
 "metadata": {
  "kernelspec": {
   "display_name": "Julia 1.9.2",
   "language": "julia",
   "name": "julia-1.9"
  },
  "language_info": {
   "file_extension": ".jl",
   "mimetype": "application/julia",
   "name": "julia",
   "version": "1.9.2"
  }
 },
 "nbformat": 4,
 "nbformat_minor": 5
}
